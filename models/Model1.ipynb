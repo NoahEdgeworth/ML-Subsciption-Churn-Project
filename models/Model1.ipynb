{
 "cells": [
  {
   "cell_type": "markdown",
   "metadata": {},
   "source": [
    "SECTION 1: Initial Model Training and Evaluation"
   ]
  },
  {
   "cell_type": "code",
   "execution_count": 2,
   "metadata": {},
   "outputs": [
    {
     "name": "stdout",
     "output_type": "stream",
     "text": [
      "      customerID  gender  SeniorCitizen  Partner  Dependents    tenure  \\\n",
      "5557  6918-UMQCG       0              0        0           0 -1.114728   \n",
      "2270  4140-MUHUG       0              1        0           0 -1.195884   \n",
      "6930  5570-PTWEH       0              0        1           0 -1.195884   \n",
      "2257  2054-PJOCK       0              0        0           0  1.117066   \n",
      "898   4315-MURBD       0              0        0           0 -0.830682   \n",
      "\n",
      "      PhoneService  PaperlessBilling  MonthlyCharges  TotalCharges  ...  \\\n",
      "5557             1                 0        0.504286     -0.836504  ...   \n",
      "2270             1                 1        0.724189     -0.907742  ...   \n",
      "6930             1                 1        0.337292     -0.909574  ...   \n",
      "2257             1                 0        0.515860      1.110332  ...   \n",
      "898              1                 1        1.122660     -0.515129  ...   \n",
      "\n",
      "      TechSupport_Yes  StreamingTV_No internet service  StreamingTV_Yes  \\\n",
      "5557            False                            False             True   \n",
      "2270            False                            False             True   \n",
      "6930            False                            False            False   \n",
      "2257             True                            False             True   \n",
      "898              True                            False             True   \n",
      "\n",
      "      StreamingMovies_No internet service  StreamingMovies_Yes  \\\n",
      "5557                                False                False   \n",
      "2270                                False                False   \n",
      "6930                                False                False   \n",
      "2257                                False                 True   \n",
      "898                                 False                 True   \n",
      "\n",
      "      Contract_One year  Contract_Two year  \\\n",
      "5557              False              False   \n",
      "2270              False              False   \n",
      "6930              False              False   \n",
      "2257               True              False   \n",
      "898               False              False   \n",
      "\n",
      "      PaymentMethod_Credit card (automatic)  PaymentMethod_Electronic check  \\\n",
      "5557                                  False                            True   \n",
      "2270                                  False                            True   \n",
      "6930                                   True                           False   \n",
      "2257                                   True                           False   \n",
      "898                                   False                           False   \n",
      "\n",
      "      PaymentMethod_Mailed check  \n",
      "5557                       False  \n",
      "2270                       False  \n",
      "6930                       False  \n",
      "2257                       False  \n",
      "898                        False  \n",
      "\n",
      "[5 rows x 33 columns]\n",
      "(4930, 33) (4930,)\n"
     ]
    }
   ],
   "source": [
    "import pickle\n",
    "\n",
    "# Load X_train, X_test, y_train, y_test from disk\n",
    "with open('/Users/noah/Data Analysis Portfolio Projects/ML - Subscription Churn Predition Project/data/Processed/X_train.pkl', 'rb') as file:\n",
    "    X_train = pickle.load(file)\n",
    "\n",
    "with open('/Users/noah/Data Analysis Portfolio Projects/ML - Subscription Churn Predition Project/data/Processed/X_test.pkl', 'rb') as file:\n",
    "    X_test = pickle.load(file)\n",
    "\n",
    "with open('/Users/noah/Data Analysis Portfolio Projects/ML - Subscription Churn Predition Project/data/Processed/y_train.pkl', 'rb') as file:\n",
    "    y_train = pickle.load(file)\n",
    "\n",
    "with open('/Users/noah/Data Analysis Portfolio Projects/ML - Subscription Churn Predition Project/data/Processed/y_test.pkl', 'rb') as file:\n",
    "    y_test = pickle.load(file)\n",
    "\n",
    "# Verify data by checking its head or shape\n",
    "print(X_train.head())\n",
    "print(X_train.shape, y_train.shape)"
   ]
  },
  {
   "cell_type": "markdown",
   "metadata": {},
   "source": []
  },
  {
   "cell_type": "code",
   "execution_count": 4,
   "metadata": {},
   "outputs": [],
   "source": [
    "# Drop the CustomerID column\n",
    "X_train = X_train.drop(columns=['customerID'])\n",
    "X_test = X_test.drop(columns=['customerID'])"
   ]
  },
  {
   "cell_type": "code",
   "execution_count": 6,
   "metadata": {},
   "outputs": [
    {
     "name": "stdout",
     "output_type": "stream",
     "text": [
      "Accuracy:  0.8092759110269758\n",
      "Classification Report:\n",
      "               precision    recall  f1-score   support\n",
      "\n",
      "           0       0.85      0.90      0.87      1552\n",
      "           1       0.67      0.56      0.61       561\n",
      "\n",
      "    accuracy                           0.81      2113\n",
      "   macro avg       0.76      0.73      0.74      2113\n",
      "weighted avg       0.80      0.81      0.80      2113\n",
      "\n"
     ]
    },
    {
     "data": {
      "image/png": "[encoded data removed]",
      "text/plain": [
       "<Figure size 640x480 with 2 Axes>"
      ]
     },
     "metadata": {},
     "output_type": "display_data"
    }
   ],
   "source": [
    "from sklearn.linear_model import LogisticRegression\n",
    "# Initialize and fit model\n",
    "log_reg_model = LogisticRegression(random_state=42)\n",
    "log_reg_model.fit(X_train, y_train)\n",
    "\n",
    "# Make Predictions\n",
    "y_pred = log_reg_model.predict(X_test)\n",
    "\n",
    "#  Evaluate Model Performance\n",
    "from sklearn.metrics import accuracy_score, classification_report, confusion_matrix\n",
    "print(\"Accuracy: \", accuracy_score(y_test, y_pred))\n",
    "print(\"Classification Report:\\n\", classification_report(y_test, y_pred))\n",
    "\n",
    "#Visualize confusion matrix\n",
    "import seaborn as sns\n",
    "import matplotlib.pyplot as plt\n",
    "\n",
    "conf_matrix = confusion_matrix(y_test, y_pred)\n",
    "sns.heatmap(conf_matrix, annot=True, fmt='d', cmap='Blues')\n",
    "plt.title('Confusion Matrix')\n",
    "plt.xlabel('Predicted')\n",
    "plt.ylabel('Actual')\n",
    "plt.show()"
   ]
  },
  {
   "cell_type": "markdown",
   "metadata": {},
   "source": [
    "Section 2: Applying SMOTE to the Training Data"
   ]
  },
  {
   "cell_type": "code",
   "execution_count": 9,
   "metadata": {},
   "outputs": [],
   "source": [
    "from imblearn.over_sampling import SMOTE"
   ]
  },
  {
   "cell_type": "code",
   "execution_count": 10,
   "metadata": {},
   "outputs": [],
   "source": [
    "# Initialize SMOTE\n",
    "smote = SMOTE(random_state=42)\n",
    "\n",
    "#Apply SMOTE to X_train and y_train\n",
    "X_train_smote, y_train_smote = smote.fit_resample(X_train, y_train)\n"
   ]
  },
  {
   "cell_type": "code",
   "execution_count": 11,
   "metadata": {},
   "outputs": [
    {
     "name": "stdout",
     "output_type": "stream",
     "text": [
      "Class distribution after SMOTE:\n",
      "Churn\n",
      "0    3622\n",
      "1    3622\n",
      "Name: count, dtype: int64\n"
     ]
    }
   ],
   "source": [
    "# Check the new class Distribution\n",
    "print('Class distribution after SMOTE:')\n",
    "print(y_train_smote.value_counts())"
   ]
  },
  {
   "cell_type": "markdown",
   "metadata": {},
   "source": [
    "Section 3: Retrain the Model with Balanced Data"
   ]
  },
  {
   "cell_type": "code",
   "execution_count": 12,
   "metadata": {},
   "outputs": [
    {
     "name": "stdout",
     "output_type": "stream",
     "text": [
      "Accuracy after SMOTE: 0.7491717936583058\n",
      "Classification Report after SMOTE:\n",
      "               precision    recall  f1-score   support\n",
      "\n",
      "           0       0.88      0.76      0.82      1552\n",
      "           1       0.52      0.72      0.60       561\n",
      "\n",
      "    accuracy                           0.75      2113\n",
      "   macro avg       0.70      0.74      0.71      2113\n",
      "weighted avg       0.79      0.75      0.76      2113\n",
      "\n"
     ]
    },
    {
     "data": {
      "image/png": "[encoded data removed]",
      "text/plain": [
       "<Figure size 640x480 with 2 Axes>"
      ]
     },
     "metadata": {},
     "output_type": "display_data"
    }
   ],
   "source": [
    "# Initialize and fit the model\n",
    "log_reg_model = LogisticRegression()\n",
    "log_reg_model.fit(X_train_smote, y_train_smote)\n",
    "\n",
    "# Make Predictions\n",
    "y_pred_smote = log_reg_model.predict(X_test)\n",
    "\n",
    "#Evaluate Model\n",
    "print('Accuracy after SMOTE:', accuracy_score(y_test, y_pred_smote))\n",
    "print('Classification Report after SMOTE:\\n', classification_report(y_test, y_pred_smote))\n",
    "\n",
    "# Visualize Updated Confusion Matrix\n",
    "conf_matrix_smote = confusion_matrix(y_test, y_pred_smote)\n",
    "sns.heatmap(conf_matrix_smote, annot=True, fmt='d', cmap='Blues')\n",
    "plt.title('Confusion Matrix after SMOTE')\n",
    "plt.xlabel('Predicted')\n",
    "plt.ylabel('Actual')\n",
    "plt.show()"
   ]
  },
  {
   "cell_type": "markdown",
   "metadata": {},
   "source": [
    "So we can see that using SMOTE, we were able to increase recall for the churn class from .56 to .72, which is a nice jump and means the model is now catching more true churn cases.\n",
    "\n",
    "However, every other metric has pretty much decreased. The model now has more false positives than before, and is correctly catching non churn cases even less. "
   ]
  },
  {
   "cell_type": "code",
   "execution_count": 13,
   "metadata": {},
   "outputs": [],
   "source": [
    "# Exporting smote data to RandomForestModel notebook\n",
    "# Save X_train_smote to a pickle file\n",
    "with open('/Users/noah/Data Analysis Portfolio Projects/ML - Subscription Churn Predition Project/data/Processed/X_train_smote.pkl', 'wb') as file:\n",
    "    pickle.dump(X_train_smote, file)\n",
    "\n",
    "# Save y_train_smote to a pickle file\n",
    "with open('/Users/noah/Data Analysis Portfolio Projects/ML - Subscription Churn Predition Project/data/Processed/y_train_smote.pkl', 'wb') as file:\n",
    "    pickle.dump(y_train_smote, file)"
   ]
  },
  {
   "cell_type": "code",
   "execution_count": null,
   "metadata": {},
   "outputs": [],
   "source": []
  }
 ],
 "metadata": {
  "kernelspec": {
   "display_name": "Python 3",
   "language": "python",
   "name": "python3"
  },
  "language_info": {
   "codemirror_mode": {
    "name": "ipython",
    "version": 3
   },
   "file_extension": ".py",
   "mimetype": "text/x-python",
   "name": "python",
   "nbconvert_exporter": "python",
   "pygments_lexer": "ipython3",
   "version": "3.11.10"
  }
 },
 "nbformat": 4,
 "nbformat_minor": 2
}
